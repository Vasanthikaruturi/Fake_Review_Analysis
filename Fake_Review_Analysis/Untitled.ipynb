{
 "cells": [
  {
   "cell_type": "code",
   "execution_count": 4,
   "metadata": {},
   "outputs": [
    {
     "name": "stdout",
     "output_type": "stream",
     "text": [
      "\n",
      "\n",
      "\n",
      "brand\n",
      "\n",
      "\n",
      " <pandas.core.groupby.generic.DataFrameGroupBy object at 0x000002D252B14188>\n",
      "\n",
      "\n",
      "\n",
      "brand\n",
      "\n",
      "\n",
      " <pandas.core.groupby.generic.DataFrameGroupBy object at 0x000002D252B14588>\n"
     ]
    }
   ],
   "source": [
    "import pandas as pd\n",
    "data=pd.read_csv(\"product_review.csv\")\n",
    "#product id\n",
    "def promte(inp):\n",
    "\t#review of the product id\n",
    "\tbasic=data.groupby(\"product_id\")\n",
    "\trslt=basic.get_group(inp)\n",
    "\tfor i in rslt['product_parent']:\n",
    "\t\th=i\n",
    "\t\tbreak\n",
    "\tfake={}\n",
    "\tfor i in rslt['review_id']:\n",
    "\t\tfake[i]=1\n",
    "\t#groupby customer id\n",
    "\tcustomer=data.groupby(\"customer_id\")\n",
    "\tcustomer_list = rslt[\"customer_id\"].unique()\n",
    "\tsize=len(customer_list.tolist())\n",
    "\tfor i in range(0,size):\n",
    "\t\t#group by brand of each customer\n",
    "\t\tbrand=customer.get_group(customer_list[i]).groupby('product_parent')\n",
    "\t\tprint(\"\\n\\n\\nbrand\\n\\n\\n\",brand)\n",
    "\treturn rslt,fake\n",
    "\n",
    "\n",
    "promte(\"B00OQMFG1Q\");"
   ]
  },
  {
   "cell_type": "code",
   "execution_count": null,
   "metadata": {},
   "outputs": [],
   "source": []
  }
 ],
 "metadata": {
  "kernelspec": {
   "display_name": "Python 3",
   "language": "python",
   "name": "python3"
  },
  "language_info": {
   "codemirror_mode": {
    "name": "ipython",
    "version": 3
   },
   "file_extension": ".py",
   "mimetype": "text/x-python",
   "name": "python",
   "nbconvert_exporter": "python",
   "pygments_lexer": "ipython3",
   "version": "3.7.7"
  }
 },
 "nbformat": 4,
 "nbformat_minor": 4
}
